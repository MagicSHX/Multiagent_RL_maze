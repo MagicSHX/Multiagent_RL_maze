{
 "cells": [
  {
   "cell_type": "markdown",
   "metadata": {},
   "source": [
    "# <span style='color:black'> Import lib </span>"
   ]
  },
  {
   "cell_type": "code",
   "execution_count": 1,
   "metadata": {},
   "outputs": [],
   "source": [
    "from shutil import copyfile\n",
    "from tkinter import *\n",
    "from PIL import *\n",
    "\n",
    "import os.path\n",
    "import os\n",
    "import torch\n",
    "import torch.nn as nn\n",
    "import torch.nn.functional as F\n",
    "import pandas as pd\n",
    "import torch.optim as optim\n",
    "import numpy as np\n",
    "import PIL.Image\n",
    "#import random\n",
    "import time\n",
    "#from random import randint\n",
    "from Model.Funtion_Bank import *\n",
    "\n",
    "global btn_txt_matrix\n",
    "global btn_matrix\n",
    "global btn_refresh_matrix\n",
    "global Button\n",
    "global Current_play_ground"
   ]
  },
  {
   "cell_type": "markdown",
   "metadata": {},
   "source": [
    "# <span style='color:black'> Define Agent </span>"
   ]
  },
  {
   "cell_type": "code",
   "execution_count": 2,
   "metadata": {},
   "outputs": [],
   "source": [
    "import numpy as np\n",
    "\n",
    "class agent_a:\n",
    "    def __init__(self, perception, state):\n",
    "        self.perception = perception\n",
    "        self.state = state\n",
    "\n",
    "        #print(self.verify_Matrix.argmax())\n",
    "    def restart(self):\n",
    "        print(self.input_string)\n",
    "        return('abc')\n",
    "    def next_action(self):\n",
    "        print('next action')\n"
   ]
  },
  {
   "cell_type": "markdown",
   "metadata": {},
   "source": [
    "# <span style='color:black'> define file_path and parameters </span>"
   ]
  },
  {
   "cell_type": "code",
   "execution_count": null,
   "metadata": {},
   "outputs": [],
   "source": []
  },
  {
   "cell_type": "markdown",
   "metadata": {},
   "source": [
    "# <span style='color:black'> Game engine </span>"
   ]
  },
  {
   "cell_type": "code",
   "execution_count": 3,
   "metadata": {},
   "outputs": [],
   "source": [
    "def play_ground(row, column, wall_generated, target_generated, agent_a, agent_b):\n",
    "    rows = row * 3\n",
    "    columns = column * 3\n",
    "    init_ground = torch.tensor([[0 for x in range(columns)] for y in range(rows)], dtype=torch.float)\n",
    "    wall_generated.append([row, column, row, column * 2])\n",
    "    wall_generated.append([row, column, row * 2, column])\n",
    "    wall_generated.append([row * 2, column, row * 2, column * 2])\n",
    "    wall_generated.append([row, column * 2, row * 2, column * 2])\n",
    "    for line in wall_generated:\n",
    "        for i in range(line[0], line[2] + 1):\n",
    "            for j in range(line[1], line[3] + 1):\n",
    "                init_ground[i][j] = 1\n",
    "    for point in target_generated:\n",
    "        init_ground[point[0]][point[1]] = 2\n",
    "    for point in agent_a:\n",
    "        init_ground[point[0]][point[1]] = 3\n",
    "    for point in agent_b:\n",
    "        init_ground[point[0]][point[1]] = 4\n",
    "    return init_ground"
   ]
  },
  {
   "cell_type": "code",
   "execution_count": null,
   "metadata": {},
   "outputs": [],
   "source": [
    "def DL_training_model():\n",
    "    indicator = 0\n",
    "    learning_rate = 0.1\n",
    "    epoch_size = 100\n",
    "    steps_for_printing_out_loss = 10\n",
    "    #cropped_perspective = np.array([4,5,6])\n",
    "    input_data = data_input(input_file_path)\n",
    "    score_data = data_input(score_file_path)\n",
    "    input = input_data\n",
    "    #print(input)\n",
    "    target = score_data\n",
    "    net = Net()\n",
    "    loss_functioin = nn.MSELoss()\n",
    "    optimizer = optim.SGD(net.parameters(), lr = learning_rate)\n",
    "    if indicator == 1:\n",
    "        state_dict_last_version = torch.load('Model/model_latest_version.pt')['state_dict']\n",
    "        net.load_state_dict(state_dict_last_version)\n",
    "    for i in range(1,epoch_size + 1):\n",
    "        optimizer.zero_grad()\n",
    "        output = net(input)\n",
    "        output[target == -2] = -2\n",
    "        #output[target == -1.1] = -1.1\n",
    "        loss = loss_functioin(output, target)\n",
    "        loss.backward()\n",
    "        if i % (steps_for_printing_out_loss) == 0:\n",
    "            print('Loss (epoch: ' + str(i) + '): ' + str(loss.cpu().detach().numpy()))\n",
    "        # Does the update\n",
    "        optimizer.step()\n",
    "    \n",
    "    if indicator == 1:\n",
    "        copyfile(file_name_model_latest_version, file_name_model_last_version)\n",
    "    else:\n",
    "        torch.save({'state_dict': net.state_dict(),'optimizer': optimizer.state_dict()}, file_name_model_last_version)\n",
    "    torch.save({'state_dict': net.state_dict(),'optimizer': optimizer.state_dict()}, file_name_model_latest_version)\n",
    "\n",
    "\n",
    "def DL_model(cropped_perspective, model_version, state):\n",
    "    model_latest_version = Net()\n",
    "    state_dict_latest_version = torch.load(file_name_model_latest_version)['state_dict']\n",
    "    model_latest_version.load_state_dict(state_dict_latest_version)\n",
    "    next_vision = model_latest_version(torch.tensor(cropped_perspective.reshape(252), dtype=torch.float))\n",
    "    #print(next_vision)\n",
    "    if ((state[0] == -1) and (state[1] == 1)) or ((state[0] == 0) and (state[1] == playground_w)):\n",
    "        next_vision[0] = -3\n",
    "    if ((state[0] == -1) and (state[3] == playground_w)) or ((state[0] == 0) and (state[3] == 1)):\n",
    "        next_vision[2] = -3\n",
    "    #print('abc')\n",
    "    #print(next_vision)\n",
    "    next_step = next_vision.argmax()\n",
    "    action = next_step\n",
    "    return action"
   ]
  },
  {
   "cell_type": "markdown",
   "metadata": {},
   "source": [
    "# <span style='color:black'> Main entrance </span>"
   ]
  },
  {
   "cell_type": "code",
   "execution_count": 4,
   "metadata": {
    "scrolled": true
   },
   "outputs": [
    {
     "name": "stdout",
     "output_type": "stream",
     "text": [
      "[[0. 0. 0. 0. 0. 0. 0. 0. 0. 0. 0. 0. 0. 0. 0. 0. 0. 0. 0. 0. 0. 0. 0. 0.\n",
      "  0. 0. 0. 0. 0. 0. 0.]\n",
      " [0. 0. 0. 0. 0. 0. 0. 0. 0. 0. 0. 0. 0. 0. 0. 0. 0. 0. 0. 0. 0. 0. 0. 0.\n",
      "  0. 0. 0. 0. 0. 0. 0.]\n",
      " [0. 0. 0. 0. 0. 0. 0. 0. 0. 0. 0. 0. 0. 0. 0. 0. 0. 0. 0. 0. 0. 0. 0. 0.\n",
      "  0. 0. 0. 0. 0. 0. 0.]\n",
      " [0. 0. 0. 0. 0. 0. 0. 0. 0. 0. 0. 0. 0. 0. 0. 0. 0. 0. 0. 0. 0. 0. 0. 0.\n",
      "  0. 0. 0. 0. 0. 0. 0.]\n",
      " [0. 0. 0. 0. 0. 0. 0. 1. 1. 1. 1. 1. 1. 1. 1. 1. 1. 1. 1. 1. 1. 1. 1. 0.\n",
      "  0. 0. 0. 0. 0. 0. 0.]\n",
      " [0. 0. 0. 0. 0. 0. 0. 1. 0. 0. 0. 0. 0. 0. 0. 0. 0. 0. 0. 2. 0. 0. 1. 0.\n",
      "  0. 0. 0. 0. 0. 0. 0.]\n",
      " [0. 0. 0. 0. 0. 0. 0. 1. 0. 2. 0. 0. 4. 4. 0. 0. 0. 0. 0. 0. 0. 0. 1. 0.\n",
      "  0. 0. 0. 0. 0. 0. 0.]\n",
      " [0. 0. 0. 0. 0. 0. 0. 1. 0. 0. 0. 0. 3. 1. 0. 1. 0. 2. 0. 0. 0. 0. 1. 0.\n",
      "  0. 0. 0. 0. 0. 0. 0.]\n",
      " [0. 0. 0. 0. 0. 0. 0. 1. 0. 0. 0. 0. 0. 1. 0. 1. 3. 0. 0. 0. 0. 0. 1. 0.\n",
      "  0. 0. 0. 0. 0. 0. 0.]\n",
      " [0. 0. 0. 0. 0. 0. 0. 1. 0. 2. 0. 0. 0. 2. 1. 1. 1. 0. 0. 0. 3. 0. 1. 0.\n",
      "  0. 0. 0. 0. 0. 0. 0.]\n",
      " [0. 0. 0. 0. 0. 0. 0. 1. 0. 0. 1. 2. 1. 1. 0. 1. 1. 1. 0. 0. 0. 0. 1. 0.\n",
      "  0. 0. 0. 0. 0. 0. 0.]\n",
      " [0. 0. 0. 0. 0. 0. 0. 1. 0. 0. 0. 0. 0. 1. 0. 4. 1. 0. 0. 0. 0. 0. 1. 0.\n",
      "  0. 0. 0. 0. 0. 0. 0.]\n",
      " [0. 0. 0. 0. 0. 0. 0. 1. 0. 3. 1. 1. 1. 1. 0. 0. 1. 0. 0. 0. 0. 0. 1. 0.\n",
      "  0. 0. 0. 0. 0. 0. 0.]\n",
      " [0. 0. 0. 0. 0. 0. 0. 1. 4. 0. 0. 4. 3. 0. 0. 0. 0. 0. 0. 0. 0. 0. 1. 0.\n",
      "  0. 0. 0. 0. 0. 0. 0.]\n",
      " [0. 0. 0. 0. 0. 0. 0. 1. 1. 1. 1. 1. 1. 1. 1. 1. 1. 1. 1. 1. 1. 1. 1. 0.\n",
      "  0. 0. 0. 0. 0. 0. 0.]\n",
      " [0. 0. 0. 0. 0. 0. 0. 0. 0. 0. 0. 0. 0. 0. 0. 0. 0. 0. 0. 0. 0. 0. 0. 0.\n",
      "  0. 0. 0. 0. 0. 0. 0.]\n",
      " [0. 0. 0. 0. 0. 0. 0. 0. 0. 0. 0. 0. 0. 0. 0. 0. 0. 0. 0. 0. 0. 0. 0. 0.\n",
      "  0. 0. 0. 0. 0. 0. 0.]\n",
      " [0. 0. 0. 0. 0. 0. 0. 0. 0. 0. 0. 0. 0. 0. 0. 0. 0. 0. 0. 0. 0. 0. 0. 0.\n",
      "  0. 0. 0. 0. 0. 0. 0.]\n",
      " [0. 0. 0. 0. 0. 0. 0. 0. 0. 0. 0. 0. 0. 0. 0. 0. 0. 0. 0. 0. 0. 0. 0. 0.\n",
      "  0. 0. 0. 0. 0. 0. 0.]\n",
      " [0. 0. 0. 0. 0. 0. 0. 0. 0. 0. 0. 0. 0. 0. 0. 0. 0. 0. 0. 0. 0. 0. 0. 0.\n",
      "  0. 0. 0. 0. 0. 0. 0.]\n",
      " [0. 0. 0. 0. 0. 0. 0. 0. 0. 0. 0. 0. 0. 0. 0. 0. 0. 0. 0. 0. 0. 0. 0. 0.\n",
      "  0. 0. 0. 0. 0. 0. 0.]]\n",
      "\n"
     ]
    }
   ],
   "source": [
    "if __name__ == \"__main__\":\n",
    "    row = 10\n",
    "    column = 15\n",
    "    no_of_wall = 10\n",
    "    no_of_target = 7\n",
    "    no_of_agent = 5\n",
    "    #initial position\n",
    "    wall_generated = wall_generation(row, column, no_of_wall)\n",
    "    target_generated = target_generation(row, column, no_of_target)\n",
    "    agent_a = agent_generation(row, column, no_of_agent)\n",
    "    agent_b = agent_generation(row, column, no_of_agent)\n",
    "    \n",
    "    tensor_play_ground = play_ground(row, column, wall_generated, target_generated, agent_a, agent_b)\n",
    "    tensor_play_ground_numpy = tensor_play_ground.clone()\n",
    "    play_ground_numpy = np.flip(tensor_play_ground_numpy.cpu().numpy(), 0)\n",
    "    \n",
    "    centre_point = [15, 23]\n",
    "    matrix_trancated = trancate_matrix(play_ground_numpy, centre_point, row, column)\n",
    "    print(matrix_trancated)\n",
    "    #21, 31\n",
    "    print()\n",
    "    pd.DataFrame(play_ground_numpy).to_csv('UI_sample.csv')"
   ]
  },
  {
   "cell_type": "code",
   "execution_count": null,
   "metadata": {},
   "outputs": [],
   "source": []
  },
  {
   "cell_type": "code",
   "execution_count": null,
   "metadata": {},
   "outputs": [],
   "source": []
  },
  {
   "cell_type": "code",
   "execution_count": null,
   "metadata": {},
   "outputs": [],
   "source": []
  },
  {
   "cell_type": "code",
   "execution_count": 5,
   "metadata": {},
   "outputs": [],
   "source": [
    "#leader\n",
    "#predict other agent next action\n",
    "#against other agent's prediction\n",
    "#communicatoin matrix\n",
    "#memory\n",
    "#remove some wall\n",
    "#set up starting point for agent a & b\n",
    "#speed & count parameter\n",
    "#use an array to present each point - []\n",
    "[0,1,0,0,0,0,0,0,0,0,0]\n"
   ]
  }
 ],
 "metadata": {
  "kernelspec": {
   "display_name": "Python 3",
   "language": "python",
   "name": "python3"
  },
  "language_info": {
   "codemirror_mode": {
    "name": "ipython",
    "version": 3
   },
   "file_extension": ".py",
   "mimetype": "text/x-python",
   "name": "python",
   "nbconvert_exporter": "python",
   "pygments_lexer": "ipython3",
   "version": "3.7.3"
  }
 },
 "nbformat": 4,
 "nbformat_minor": 2
}
