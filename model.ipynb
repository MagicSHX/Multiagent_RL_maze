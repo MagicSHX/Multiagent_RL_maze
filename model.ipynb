{
 "cells": [
  {
   "cell_type": "markdown",
   "metadata": {},
   "source": [
    "# <span style='color:black'> Import lib </span>"
   ]
  },
  {
   "cell_type": "code",
   "execution_count": 10,
   "metadata": {},
   "outputs": [],
   "source": [
    "from shutil import copyfile\n",
    "from tkinter import *\n",
    "from PIL import *\n",
    "\n",
    "import os.path\n",
    "import os\n",
    "import torch\n",
    "import torch.nn as nn\n",
    "import torch.nn.functional as F\n",
    "import pandas as pd\n",
    "import torch.optim as optim\n",
    "import numpy as np\n",
    "import PIL.Image\n",
    "import random\n",
    "import time\n",
    "from random import randint\n",
    "\n",
    "global btn_txt_matrix\n",
    "global btn_matrix\n",
    "global btn_refresh_matrix\n",
    "global Button\n",
    "global Current_play_ground"
   ]
  },
  {
   "cell_type": "markdown",
   "metadata": {},
   "source": [
    "# <span style='color:black'> define file_path and parameters </span>"
   ]
  },
  {
   "cell_type": "code",
   "execution_count": null,
   "metadata": {},
   "outputs": [],
   "source": []
  },
  {
   "cell_type": "markdown",
   "metadata": {},
   "source": [
    "# <span style='color:black'> Game engine </span>"
   ]
  },
  {
   "cell_type": "code",
   "execution_count": 17,
   "metadata": {},
   "outputs": [],
   "source": [
    "def play_ground(row, column, outline, agent_a, agent_b):\n",
    "    rows = row * 3\n",
    "    columns = column * 3\n",
    "    init_ground = torch.tensor([[0 for x in range(columns)] for y in range(rows)], dtype=torch.float)\n",
    "    for line in outline:\n",
    "        for i in range(line[0], line[2] + 1):\n",
    "            for j in range(line[1], line[3] + 1):\n",
    "                init_ground[i][j] = 1\n",
    "    return init_ground"
   ]
  },
  {
   "cell_type": "code",
   "execution_count": 15,
   "metadata": {},
   "outputs": [],
   "source": [
    "def exchange_value_in_scequence(a, b):\n",
    "    if a > b:\n",
    "        return (b, a)\n",
    "    else:\n",
    "        return (a, b)"
   ]
  },
  {
   "cell_type": "code",
   "execution_count": 24,
   "metadata": {},
   "outputs": [],
   "source": [
    "if __name__ == \"__main__\":\n",
    "    row = 10\n",
    "    column = 15\n",
    "    outline = []\n",
    "    for i in range(0, 10):\n",
    "        line = [randint(2, row - 2), randint(2, column - 2), randint(2, row - 2), randint(2, column - 2)]\n",
    "        line[0], line[2] = exchange_value_in_scequence(line[0], line[2])\n",
    "        line[1], line[3] = exchange_value_in_scequence(line[1], line[3])\n",
    "        if randint(0,1) == 0:\n",
    "            line[2] = line[0]\n",
    "        else:\n",
    "            line[3] = line[1]\n",
    "        outline.append(line)\n",
    "    outline\n",
    "    agent_a = 0\n",
    "    agent_b = 0\n",
    "    tensor_play_ground = play_ground(row, column, outline, agent_a, agent_b)\n",
    "    tensor_play_ground_numpy = tensor_play_ground.clone()\n",
    "    play_ground_numpy = np.flip(tensor_play_ground_numpy.cpu().numpy(), 0)\n",
    "\n",
    "    pd.DataFrame(play_ground_numpy).to_csv('UI_sample.csv')"
   ]
  },
  {
   "cell_type": "code",
   "execution_count": 5,
   "metadata": {},
   "outputs": [],
   "source": [
    "\n"
   ]
  },
  {
   "cell_type": "code",
   "execution_count": null,
   "metadata": {},
   "outputs": [],
   "source": []
  }
 ],
 "metadata": {
  "kernelspec": {
   "display_name": "Python 3",
   "language": "python",
   "name": "python3"
  },
  "language_info": {
   "codemirror_mode": {
    "name": "ipython",
    "version": 3
   },
   "file_extension": ".py",
   "mimetype": "text/x-python",
   "name": "python",
   "nbconvert_exporter": "python",
   "pygments_lexer": "ipython3",
   "version": "3.7.3"
  }
 },
 "nbformat": 4,
 "nbformat_minor": 2
}
