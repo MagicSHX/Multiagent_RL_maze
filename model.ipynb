{
 "cells": [
  {
   "cell_type": "markdown",
   "metadata": {},
   "source": [
    "# <span style='color:black'> Import lib </span>"
   ]
  },
  {
   "cell_type": "code",
   "execution_count": 6,
   "metadata": {},
   "outputs": [],
   "source": [
    "from shutil import copyfile\n",
    "from tkinter import *\n",
    "from PIL import *\n",
    "\n",
    "import os.path\n",
    "import os\n",
    "import torch\n",
    "import torch.nn as nn\n",
    "import torch.nn.functional as F\n",
    "import pandas as pd\n",
    "import torch.optim as optim\n",
    "import numpy as np\n",
    "import PIL.Image\n",
    "import random\n",
    "import time\n",
    "from random import randint\n",
    "\n",
    "global btn_txt_matrix\n",
    "global btn_matrix\n",
    "global btn_refresh_matrix\n",
    "global Button\n",
    "global Current_play_ground"
   ]
  },
  {
   "cell_type": "markdown",
   "metadata": {},
   "source": [
    "# <span style='color:black'> Define Agent </span>"
   ]
  },
  {
   "cell_type": "code",
   "execution_count": 7,
   "metadata": {},
   "outputs": [],
   "source": [
    "import numpy as np\n",
    "\n",
    "class agent_a:\n",
    "    def __init__(self, perception, state):\n",
    "        self.perception = perception\n",
    "        self.state = state\n",
    "\n",
    "        #print(self.verify_Matrix.argmax())\n",
    "    def restart(self):\n",
    "        print(self.input_string)\n",
    "        return('abc')\n",
    "    def next_action(self):\n",
    "        print('next action')\n"
   ]
  },
  {
   "cell_type": "markdown",
   "metadata": {},
   "source": [
    "# <span style='color:black'> define file_path and parameters </span>"
   ]
  },
  {
   "cell_type": "code",
   "execution_count": null,
   "metadata": {},
   "outputs": [],
   "source": []
  },
  {
   "cell_type": "markdown",
   "metadata": {},
   "source": [
    "# <span style='color:black'> Game engine </span>"
   ]
  },
  {
   "cell_type": "code",
   "execution_count": 8,
   "metadata": {},
   "outputs": [],
   "source": [
    "def play_ground(row, column, wall_generated, target_generated, agent_a, agent_b):\n",
    "    rows = row * 3\n",
    "    columns = column * 3\n",
    "    init_ground = torch.tensor([[0 for x in range(columns)] for y in range(rows)], dtype=torch.float)\n",
    "    wall_generated.append([row, column, row, column * 2])\n",
    "    wall_generated.append([row, column, row * 2, column])\n",
    "    wall_generated.append([row * 2, column, row * 2, column * 2])\n",
    "    wall_generated.append([row, column * 2, row * 2, column * 2])\n",
    "    for line in wall_generated:\n",
    "        for i in range(line[0], line[2] + 1):\n",
    "            for j in range(line[1], line[3] + 1):\n",
    "                init_ground[i][j] = 1\n",
    "    for point in target_generated:\n",
    "        init_ground[point[0]][point[1]] = 2\n",
    "    return init_ground"
   ]
  },
  {
   "cell_type": "code",
   "execution_count": 9,
   "metadata": {},
   "outputs": [],
   "source": [
    "def exchange_value_in_scequence(a, b):\n",
    "    if a > b:\n",
    "        return (b, a)\n",
    "    else:\n",
    "        return (a, b)\n",
    "\n",
    "\n",
    "def trancate_matrix(play_ground, centre_point, row, column):\n",
    "    return play_ground[centre_point[0] - row : centre_point[0] + row + 1, centre_point[1] - column : centre_point[1] + column + 1]\n",
    "\n",
    "\n",
    "def wall_generation(row, column, no_of_wall):\n",
    "    outline = []\n",
    "    for i in range(0, no_of_wall):\n",
    "        line = [randint(2, row - 2) + row, randint(2, column - 2) + column, randint(2, row - 2) + row, randint(2, column - 2) + column]\n",
    "        line[0], line[2] = exchange_value_in_scequence(line[0], line[2])\n",
    "        line[1], line[3] = exchange_value_in_scequence(line[1], line[3])\n",
    "        if randint(0,1) == 0:\n",
    "            line[2] = line[0]\n",
    "        else:\n",
    "            line[3] = line[1]\n",
    "        outline.append(line)\n",
    "    return outline\n",
    "\n",
    "def target_generation(row, column, no_of_target):\n",
    "    target = []\n",
    "    for i in range(0, no_of_target):\n",
    "        line = [randint(1, row - 1) + row, randint(1, column - 1) + column]\n",
    "        target.append(line)\n",
    "    return target"
   ]
  },
  {
   "cell_type": "code",
   "execution_count": 10,
   "metadata": {},
   "outputs": [
    {
     "name": "stdout",
     "output_type": "stream",
     "text": [
      "[[0. 0. 0. 0. 0. 0. 0. 0. 0. 0. 0. 0. 0. 0. 0. 0. 0. 0. 0. 0. 0. 0. 0. 0.\n",
      "  0. 0. 0. 0. 0. 0. 0.]\n",
      " [0. 0. 0. 0. 0. 0. 0. 0. 0. 0. 0. 0. 0. 0. 0. 0. 0. 0. 0. 0. 0. 0. 0. 0.\n",
      "  0. 0. 0. 0. 0. 0. 0.]\n",
      " [0. 0. 0. 0. 0. 0. 0. 0. 0. 0. 0. 0. 0. 0. 0. 0. 0. 0. 0. 0. 0. 0. 0. 0.\n",
      "  0. 0. 0. 0. 0. 0. 0.]\n",
      " [0. 0. 0. 0. 0. 0. 0. 0. 0. 0. 0. 0. 0. 0. 0. 0. 0. 0. 0. 0. 0. 0. 0. 0.\n",
      "  0. 0. 0. 0. 0. 0. 0.]\n",
      " [0. 0. 0. 0. 0. 0. 0. 1. 1. 1. 1. 1. 1. 1. 1. 1. 1. 1. 1. 1. 1. 1. 1. 0.\n",
      "  0. 0. 0. 0. 0. 0. 0.]\n",
      " [0. 0. 0. 0. 0. 0. 0. 1. 0. 0. 0. 0. 0. 0. 0. 0. 0. 0. 0. 0. 0. 0. 1. 0.\n",
      "  0. 0. 0. 0. 0. 0. 0.]\n",
      " [0. 0. 0. 0. 0. 0. 0. 1. 0. 0. 0. 0. 0. 2. 0. 0. 0. 0. 0. 0. 0. 2. 1. 0.\n",
      "  0. 0. 0. 0. 0. 0. 0.]\n",
      " [0. 0. 0. 0. 0. 0. 0. 1. 0. 0. 0. 1. 1. 0. 0. 1. 0. 0. 0. 0. 0. 0. 1. 0.\n",
      "  0. 0. 0. 0. 0. 0. 0.]\n",
      " [0. 0. 0. 0. 0. 0. 0. 1. 0. 0. 0. 1. 1. 0. 0. 1. 0. 0. 0. 0. 0. 0. 1. 0.\n",
      "  0. 0. 0. 0. 0. 0. 0.]\n",
      " [0. 0. 0. 0. 0. 0. 0. 1. 0. 1. 0. 1. 1. 0. 0. 0. 0. 0. 0. 0. 0. 0. 1. 0.\n",
      "  0. 0. 0. 0. 0. 0. 0.]\n",
      " [0. 0. 0. 0. 0. 0. 0. 1. 0. 1. 1. 1. 1. 1. 1. 1. 1. 2. 1. 1. 1. 0. 1. 0.\n",
      "  0. 0. 0. 0. 0. 0. 0.]\n",
      " [0. 0. 0. 0. 0. 0. 0. 1. 0. 1. 0. 1. 1. 0. 0. 0. 0. 0. 0. 0. 0. 0. 1. 0.\n",
      "  0. 0. 0. 0. 0. 0. 0.]\n",
      " [0. 0. 0. 0. 0. 0. 0. 1. 2. 0. 0. 1. 1. 0. 0. 0. 0. 0. 0. 0. 0. 0. 1. 0.\n",
      "  0. 0. 0. 0. 0. 0. 0.]\n",
      " [0. 0. 0. 0. 0. 0. 0. 1. 0. 0. 0. 0. 0. 0. 0. 0. 0. 0. 2. 0. 0. 2. 1. 0.\n",
      "  0. 0. 0. 0. 0. 0. 0.]\n",
      " [0. 0. 0. 0. 0. 0. 0. 1. 1. 1. 1. 1. 1. 1. 1. 1. 1. 1. 1. 1. 1. 1. 1. 0.\n",
      "  0. 0. 0. 0. 0. 0. 0.]\n",
      " [0. 0. 0. 0. 0. 0. 0. 0. 0. 0. 0. 0. 0. 0. 0. 0. 0. 0. 0. 0. 0. 0. 0. 0.\n",
      "  0. 0. 0. 0. 0. 0. 0.]\n",
      " [0. 0. 0. 0. 0. 0. 0. 0. 0. 0. 0. 0. 0. 0. 0. 0. 0. 0. 0. 0. 0. 0. 0. 0.\n",
      "  0. 0. 0. 0. 0. 0. 0.]\n",
      " [0. 0. 0. 0. 0. 0. 0. 0. 0. 0. 0. 0. 0. 0. 0. 0. 0. 0. 0. 0. 0. 0. 0. 0.\n",
      "  0. 0. 0. 0. 0. 0. 0.]\n",
      " [0. 0. 0. 0. 0. 0. 0. 0. 0. 0. 0. 0. 0. 0. 0. 0. 0. 0. 0. 0. 0. 0. 0. 0.\n",
      "  0. 0. 0. 0. 0. 0. 0.]\n",
      " [0. 0. 0. 0. 0. 0. 0. 0. 0. 0. 0. 0. 0. 0. 0. 0. 0. 0. 0. 0. 0. 0. 0. 0.\n",
      "  0. 0. 0. 0. 0. 0. 0.]\n",
      " [0. 0. 0. 0. 0. 0. 0. 0. 0. 0. 0. 0. 0. 0. 0. 0. 0. 0. 0. 0. 0. 0. 0. 0.\n",
      "  0. 0. 0. 0. 0. 0. 0.]]\n",
      "\n"
     ]
    }
   ],
   "source": [
    "if __name__ == \"__main__\":\n",
    "    row = 10\n",
    "    column = 15\n",
    "    no_of_wall = 10\n",
    "    no_of_target = 7\n",
    "    wall_generated = wall_generation(row, column, no_of_wall)\n",
    "    target_generated = target_generation(row, column, no_of_target)\n",
    "    agent_a = 0\n",
    "    agent_b = 0\n",
    "    tensor_play_ground = play_ground(row, column, wall_generated, target_generated, agent_a, agent_b)\n",
    "    tensor_play_ground_numpy = tensor_play_ground.clone()\n",
    "    play_ground_numpy = np.flip(tensor_play_ground_numpy.cpu().numpy(), 0)\n",
    "    \n",
    "    centre_point = [15, 23]\n",
    "    print(trancate_matrix(play_ground_numpy, centre_point, row, column))\n",
    "    print()\n",
    "    pd.DataFrame(play_ground_numpy).to_csv('UI_sample.csv')"
   ]
  },
  {
   "cell_type": "code",
   "execution_count": null,
   "metadata": {},
   "outputs": [],
   "source": []
  },
  {
   "cell_type": "code",
   "execution_count": null,
   "metadata": {},
   "outputs": [],
   "source": []
  },
  {
   "cell_type": "code",
   "execution_count": 11,
   "metadata": {},
   "outputs": [],
   "source": [
    "#leader\n",
    "#predict other agent next action\n",
    "#against other agent's prediction\n",
    "#communicatoin matrix\n",
    "#memory"
   ]
  }
 ],
 "metadata": {
  "kernelspec": {
   "display_name": "Python 3",
   "language": "python",
   "name": "python3"
  },
  "language_info": {
   "codemirror_mode": {
    "name": "ipython",
    "version": 3
   },
   "file_extension": ".py",
   "mimetype": "text/x-python",
   "name": "python",
   "nbconvert_exporter": "python",
   "pygments_lexer": "ipython3",
   "version": "3.7.3"
  }
 },
 "nbformat": 4,
 "nbformat_minor": 2
}
